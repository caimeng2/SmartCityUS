{
 "cells": [
  {
   "cell_type": "code",
   "execution_count": null,
   "metadata": {
    "ExecuteTime": {
     "end_time": "2024-01-24T15:37:44.492092Z",
     "start_time": "2024-01-24T15:37:43.789609Z"
    }
   },
   "outputs": [],
   "source": [
    "import pandas as pd\n",
    "import csv\n",
    "from ast import literal_eval\n",
    "import sys\n",
    "import numpy as np\n",
    "import glob"
   ]
  },
  {
   "cell_type": "code",
   "execution_count": null,
   "metadata": {
    "ExecuteTime": {
     "end_time": "2024-01-24T15:45:25.803142Z",
     "start_time": "2024-01-24T15:45:25.760426Z"
    }
   },
   "outputs": [],
   "source": [
    "sc = pd.read_csv(\"data/smart_cities20240110.csv\")"
   ]
  },
  {
   "cell_type": "code",
   "execution_count": null,
   "metadata": {
    "ExecuteTime": {
     "end_time": "2024-01-24T15:49:24.006616Z",
     "start_time": "2024-01-24T15:49:23.992988Z"
    }
   },
   "outputs": [],
   "source": [
    "sc = sc[sc.smart==1]"
   ]
  },
  {
   "cell_type": "code",
   "execution_count": null,
   "metadata": {
    "ExecuteTime": {
     "end_time": "2024-01-24T15:40:40.325813Z",
     "start_time": "2024-01-24T15:40:40.304818Z"
    }
   },
   "outputs": [],
   "source": [
    "path = \"../../hpcc/text/all\"\n",
    "file_names = glob.glob(path+\"/*.csv\")"
   ]
  },
  {
   "cell_type": "code",
   "execution_count": null,
   "metadata": {
    "ExecuteTime": {
     "end_time": "2024-01-24T15:40:59.810976Z",
     "start_time": "2024-01-24T15:40:58.663255Z"
    }
   },
   "outputs": [],
   "source": [
    "file_list = []\n",
    "for file_name in file_names:\n",
    "    file = pd.read_csv(file_name, names=[\"GISJOIN\",\"text\"])\n",
    "    file_list.append(file)"
   ]
  },
  {
   "cell_type": "code",
   "execution_count": null,
   "metadata": {
    "ExecuteTime": {
     "end_time": "2024-01-24T15:41:24.583177Z",
     "start_time": "2024-01-24T15:41:24.556731Z"
    }
   },
   "outputs": [],
   "source": [
    "df = pd.concat(file_list, ignore_index=True)"
   ]
  },
  {
   "cell_type": "code",
   "execution_count": null,
   "metadata": {
    "ExecuteTime": {
     "end_time": "2024-01-24T15:46:44.422809Z",
     "start_time": "2024-01-24T15:46:44.405179Z"
    }
   },
   "outputs": [],
   "source": [
    "df = df.dropna(subset=[\"text\"]) # drop empty text"
   ]
  },
  {
   "cell_type": "code",
   "execution_count": null,
   "metadata": {
    "ExecuteTime": {
     "end_time": "2024-01-24T15:47:09.950069Z",
     "start_time": "2024-01-24T15:47:08.992572Z"
    }
   },
   "outputs": [],
   "source": [
    "df = df.loc[~df.text.str.contains(\"access denied\", case=False)] # drop \"access denied\""
   ]
  },
  {
   "cell_type": "code",
   "execution_count": null,
   "metadata": {
    "ExecuteTime": {
     "end_time": "2024-01-24T15:47:49.792429Z",
     "start_time": "2024-01-24T15:47:49.763417Z"
    }
   },
   "outputs": [],
   "source": [
    "sorter = list(sc.GISJOIN)\n",
    "df.GISJOIN = df.GISJOIN.astype(\"category\")\n",
    "df.GISJOIN = df.GISJOIN.cat.set_categories(sorter)"
   ]
  },
  {
   "cell_type": "code",
   "execution_count": null,
   "metadata": {},
   "outputs": [],
   "source": [
    "part1 = df[:2000]\n",
    "part2 = df[2000:]"
   ]
  },
  {
   "cell_type": "code",
   "execution_count": null,
   "metadata": {},
   "outputs": [],
   "source": [
    "part1.to_csv(\"data/hpcc_text_part1_20240124.csv\", index=False)\n",
    "part2.to_csv(\"data/hpcc_text_part2_20240124.csv\", index=False)"
   ]
  }
 ],
 "metadata": {
  "kernelspec": {
   "display_name": "Python 3",
   "language": "python",
   "name": "python3"
  },
  "language_info": {
   "codemirror_mode": {
    "name": "ipython",
    "version": 3
   },
   "file_extension": ".py",
   "mimetype": "text/x-python",
   "name": "python",
   "nbconvert_exporter": "python",
   "pygments_lexer": "ipython3",
   "version": "3.8.3"
  },
  "toc": {
   "base_numbering": 1,
   "nav_menu": {},
   "number_sections": false,
   "sideBar": true,
   "skip_h1_title": false,
   "title_cell": "Table of Contents",
   "title_sidebar": "Contents",
   "toc_cell": false,
   "toc_position": {},
   "toc_section_display": true,
   "toc_window_display": false
  },
  "varInspector": {
   "cols": {
    "lenName": 16,
    "lenType": 16,
    "lenVar": 40
   },
   "kernels_config": {
    "python": {
     "delete_cmd_postfix": "",
     "delete_cmd_prefix": "del ",
     "library": "var_list.py",
     "varRefreshCmd": "print(var_dic_list())"
    },
    "r": {
     "delete_cmd_postfix": ") ",
     "delete_cmd_prefix": "rm(",
     "library": "var_list.r",
     "varRefreshCmd": "cat(var_dic_list()) "
    }
   },
   "types_to_exclude": [
    "module",
    "function",
    "builtin_function_or_method",
    "instance",
    "_Feature"
   ],
   "window_display": false
  }
 },
 "nbformat": 4,
 "nbformat_minor": 4
}
