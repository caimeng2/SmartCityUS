{
 "cells": [
  {
   "cell_type": "code",
   "execution_count": null,
   "metadata": {
    "ExecuteTime": {
     "end_time": "2024-02-02T13:41:04.532181Z",
     "start_time": "2024-02-02T13:41:04.290394Z"
    }
   },
   "outputs": [],
   "source": [
    "import pandas as pd\n",
    "import csv\n",
    "from ast import literal_eval\n",
    "import sys\n",
    "import numpy as np\n",
    "import glob\n",
    "import re"
   ]
  },
  {
   "cell_type": "code",
   "execution_count": null,
   "metadata": {
    "ExecuteTime": {
     "end_time": "2024-02-02T13:41:04.536449Z",
     "start_time": "2024-02-02T13:41:04.533595Z"
    }
   },
   "outputs": [],
   "source": [
    "path = \"data/seesus_text\"\n",
    "file_names = glob.glob(path+\"/*.csv\")"
   ]
  },
  {
   "cell_type": "code",
   "execution_count": null,
   "metadata": {
    "ExecuteTime": {
     "end_time": "2024-02-02T13:41:05.041213Z",
     "start_time": "2024-02-02T13:41:04.537898Z"
    }
   },
   "outputs": [],
   "source": [
    "# combine all text files to one\n",
    "file_list = []\n",
    "for file_name in file_names:\n",
    "    gisjoin = re.findall(r'[G]\\d{8}', file_name)[0]\n",
    "    file = pd.read_csv(file_name, names=[\"sdg\",\"target\",\"see\"])\n",
    "    file[\"GISJOIN\"] = gisjoin\n",
    "    file_list.append(file)"
   ]
  },
  {
   "cell_type": "code",
   "execution_count": null,
   "metadata": {
    "ExecuteTime": {
     "end_time": "2024-02-02T13:41:05.101624Z",
     "start_time": "2024-02-02T13:41:05.042122Z"
    }
   },
   "outputs": [],
   "source": [
    "df = pd.concat(file_list, ignore_index=True)"
   ]
  },
  {
   "cell_type": "code",
   "execution_count": null,
   "metadata": {
    "ExecuteTime": {
     "end_time": "2024-02-02T13:41:05.108547Z",
     "start_time": "2024-02-02T13:41:05.102640Z"
    }
   },
   "outputs": [],
   "source": [
    "df = df[[\"GISJOIN\", \"sdg\", \"see\", \"target\"]] #reorder"
   ]
  },
  {
   "cell_type": "code",
   "execution_count": null,
   "metadata": {
    "ExecuteTime": {
     "end_time": "2024-02-02T13:41:16.623381Z",
     "start_time": "2024-02-02T13:41:05.109535Z"
    }
   },
   "outputs": [],
   "source": [
    "# expand to columns\n",
    "sdg1 = []\n",
    "sdg2 = []\n",
    "sdg3 = []\n",
    "sdg4 = []\n",
    "sdg5 = []\n",
    "sdg6 = []\n",
    "sdg7 = []\n",
    "sdg8 = []\n",
    "sdg9 = []\n",
    "sdg10 = []\n",
    "sdg11 = []\n",
    "sdg12 = []\n",
    "sdg13 = []\n",
    "sdg14 = []\n",
    "sdg15 = []\n",
    "sdg16 = []\n",
    "sdg17 = []\n",
    "soc = []\n",
    "env = []\n",
    "eco = []\n",
    "\n",
    "for i in range(len(df)):\n",
    "    gisjoin = df.GISJOIN.iloc[i]\n",
    "    if \"'SDG1'\" in df.sdg.iloc[i]:\n",
    "        sdg1.append(1)\n",
    "    else:\n",
    "        sdg1.append(0)\n",
    "    if \"'SDG2'\" in df.sdg.iloc[i]:\n",
    "        sdg2.append(1)\n",
    "    else:\n",
    "        sdg2.append(0)\n",
    "    if \"'SDG3'\" in df.sdg.iloc[i]:\n",
    "        sdg3.append(1)\n",
    "    else:\n",
    "        sdg3.append(0)\n",
    "    if \"'SDG4'\" in df.sdg.iloc[i]:\n",
    "        sdg4.append(1)\n",
    "    else:\n",
    "        sdg4.append(0)\n",
    "    if \"'SDG5'\" in df.sdg.iloc[i]:\n",
    "        sdg5.append(1)\n",
    "    else:\n",
    "        sdg5.append(0)\n",
    "    if \"'SDG6'\" in df.sdg.iloc[i]:\n",
    "        sdg6.append(1)\n",
    "    else:\n",
    "        sdg6.append(0)\n",
    "    if \"'SDG7'\" in df.sdg.iloc[i]:\n",
    "        sdg7.append(1)\n",
    "    else:\n",
    "        sdg7.append(0)\n",
    "    if \"'SDG8'\" in df.sdg.iloc[i]:\n",
    "        sdg8.append(1)\n",
    "    else:\n",
    "        sdg8.append(0)\n",
    "    if \"'SDG9'\" in df.sdg.iloc[i]:\n",
    "        sdg9.append(1)\n",
    "    else:\n",
    "        sdg9.append(0)\n",
    "    if \"'SDG10'\" in df.sdg.iloc[i]:\n",
    "        sdg10.append(1)\n",
    "    else:\n",
    "        sdg10.append(0)\n",
    "    if \"'SDG11'\" in df.sdg.iloc[i]:\n",
    "        sdg11.append(1)\n",
    "    else:\n",
    "        sdg11.append(0)\n",
    "    if \"'SDG12'\" in df.sdg.iloc[i]:\n",
    "        sdg12.append(1)\n",
    "    else:\n",
    "        sdg12.append(0)\n",
    "    if \"'SDG13'\" in df.sdg.iloc[i]:\n",
    "        sdg13.append(1)\n",
    "    else:\n",
    "        sdg13.append(0)\n",
    "    if \"'SDG14'\" in df.sdg.iloc[i]:\n",
    "        sdg14.append(1)\n",
    "    else:\n",
    "        sdg14.append(0)\n",
    "    if \"'SDG15'\" in df.sdg.iloc[i]:\n",
    "        sdg15.append(1)\n",
    "    else:\n",
    "        sdg15.append(0)\n",
    "    if \"'SDG16'\" in df.sdg.iloc[i]:\n",
    "        sdg16.append(1)\n",
    "    else:\n",
    "        sdg16.append(0)\n",
    "    if \"'SDG17'\" in df.sdg.iloc[i]:\n",
    "        sdg17.append(1)\n",
    "    else:\n",
    "        sdg17.append(0)\n",
    "    if \"'social_sustainability': True\" in df.see.iloc[i]:\n",
    "        soc.append(1)\n",
    "    else:\n",
    "        soc.append(0)\n",
    "    if \"'environmental_sustainability': True\" in df.see.iloc[i]:\n",
    "        env.append(1)\n",
    "    else:\n",
    "        env.append(0)\n",
    "    if \"'economic_sustainability': True\" in df.see.iloc[i]:\n",
    "        eco.append(1)\n",
    "    else:\n",
    "        eco.append(0)"
   ]
  },
  {
   "cell_type": "code",
   "execution_count": null,
   "metadata": {
    "ExecuteTime": {
     "end_time": "2024-02-02T13:41:16.935278Z",
     "start_time": "2024-02-02T13:41:16.625444Z"
    }
   },
   "outputs": [],
   "source": [
    "df[\"SDG1\"]=sdg1\n",
    "df[\"SDG2\"]=sdg2\n",
    "df[\"SDG3\"]=sdg3\n",
    "df[\"SDG4\"]=sdg4\n",
    "df[\"SDG5\"]=sdg5\n",
    "df[\"SDG6\"]=sdg6\n",
    "df[\"SDG7\"]=sdg7\n",
    "df[\"SDG8\"]=sdg8\n",
    "df[\"SDG9\"]=sdg9\n",
    "df[\"SDG10\"]=sdg10\n",
    "df[\"SDG11\"]=sdg11\n",
    "df[\"SDG12\"]=sdg12\n",
    "df[\"SDG13\"]=sdg13\n",
    "df[\"SDG14\"]=sdg14\n",
    "df[\"SDG15\"]=sdg15\n",
    "df[\"SDG16\"]=sdg16\n",
    "df[\"SDG17\"]=sdg17\n",
    "df[\"soc\"]=soc\n",
    "df[\"env\"]=env\n",
    "df[\"eco\"]=eco"
   ]
  },
  {
   "cell_type": "code",
   "execution_count": null,
   "metadata": {
    "ExecuteTime": {
     "end_time": "2024-02-02T13:41:16.950000Z",
     "start_time": "2024-02-02T13:41:16.936896Z"
    }
   },
   "outputs": [],
   "source": [
    "df = df.drop(['sdg','see'], axis=1)"
   ]
  },
  {
   "cell_type": "code",
   "execution_count": null,
   "metadata": {
    "ExecuteTime": {
     "end_time": "2024-02-02T13:41:17.219054Z",
     "start_time": "2024-02-02T13:41:16.950874Z"
    }
   },
   "outputs": [],
   "source": [
    "df.to_csv(\"data/sdgs20240202.csv\", index=False)"
   ]
  },
  {
   "cell_type": "code",
   "execution_count": null,
   "metadata": {},
   "outputs": [],
   "source": []
  }
 ],
 "metadata": {
  "kernelspec": {
   "display_name": "Python 3",
   "language": "python",
   "name": "python3"
  },
  "language_info": {
   "codemirror_mode": {
    "name": "ipython",
    "version": 3
   },
   "file_extension": ".py",
   "mimetype": "text/x-python",
   "name": "python",
   "nbconvert_exporter": "python",
   "pygments_lexer": "ipython3",
   "version": "3.8.3"
  },
  "toc": {
   "base_numbering": 1,
   "nav_menu": {},
   "number_sections": false,
   "sideBar": true,
   "skip_h1_title": false,
   "title_cell": "Table of Contents",
   "title_sidebar": "Contents",
   "toc_cell": false,
   "toc_position": {},
   "toc_section_display": true,
   "toc_window_display": false
  },
  "varInspector": {
   "cols": {
    "lenName": 16,
    "lenType": 16,
    "lenVar": 40
   },
   "kernels_config": {
    "python": {
     "delete_cmd_postfix": "",
     "delete_cmd_prefix": "del ",
     "library": "var_list.py",
     "varRefreshCmd": "print(var_dic_list())"
    },
    "r": {
     "delete_cmd_postfix": ") ",
     "delete_cmd_prefix": "rm(",
     "library": "var_list.r",
     "varRefreshCmd": "cat(var_dic_list()) "
    }
   },
   "types_to_exclude": [
    "module",
    "function",
    "builtin_function_or_method",
    "instance",
    "_Feature"
   ],
   "window_display": false
  }
 },
 "nbformat": 4,
 "nbformat_minor": 4
}
