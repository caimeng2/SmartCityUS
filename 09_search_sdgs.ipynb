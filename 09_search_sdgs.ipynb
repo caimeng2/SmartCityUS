{
 "cells": [
  {
   "cell_type": "code",
   "execution_count": null,
   "metadata": {
    "ExecuteTime": {
     "end_time": "2024-01-24T20:38:05.358870Z",
     "start_time": "2024-01-24T20:38:04.832058Z"
    }
   },
   "outputs": [],
   "source": [
    "import pandas as pd\n",
    "import csv\n",
    "from ast import literal_eval\n",
    "import sys\n",
    "import numpy as np\n",
    "import glob\n",
    "import regex as re\n",
    "import seesus\n",
    "from nltk.tokenize import sent_tokenize"
   ]
  },
  {
   "cell_type": "code",
   "execution_count": null,
   "metadata": {
    "ExecuteTime": {
     "end_time": "2024-01-24T20:38:07.297422Z",
     "start_time": "2024-01-24T20:38:06.225688Z"
    }
   },
   "outputs": [],
   "source": [
    "part1 = pd.read_csv(\"data/hpcc_text_part1_20240124.csv\")\n",
    "part2 = pd.read_csv(\"data/hpcc_text_part2_20240124.csv\")\n",
    "cities = pd.read_csv(\"data/smart_cities20240110.csv\")"
   ]
  },
  {
   "cell_type": "code",
   "execution_count": null,
   "metadata": {
    "ExecuteTime": {
     "end_time": "2024-01-24T20:38:08.154647Z",
     "start_time": "2024-01-24T20:38:08.126173Z"
    }
   },
   "outputs": [],
   "source": [
    "wps = pd.concat([part1, part2], ignore_index=True) # each row is a webpage"
   ]
  },
  {
   "cell_type": "code",
   "execution_count": null,
   "metadata": {
    "ExecuteTime": {
     "end_time": "2024-01-24T20:38:09.165511Z",
     "start_time": "2024-01-24T20:38:09.140590Z"
    }
   },
   "outputs": [],
   "source": [
    "len(wps)"
   ]
  },
  {
   "cell_type": "code",
   "execution_count": null,
   "metadata": {
    "ExecuteTime": {
     "end_time": "2024-01-24T20:38:09.927723Z",
     "start_time": "2024-01-24T20:38:09.916920Z"
    }
   },
   "outputs": [],
   "source": [
    "len(wps.GISJOIN.unique())"
   ]
  },
  {
   "cell_type": "code",
   "execution_count": null,
   "metadata": {
    "ExecuteTime": {
     "end_time": "2024-01-24T20:38:11.770354Z",
     "start_time": "2024-01-24T20:38:10.514355Z"
    }
   },
   "outputs": [],
   "source": [
    "len(cities[cities.smart==1])"
   ]
  },
  {
   "cell_type": "code",
   "execution_count": null,
   "metadata": {
    "ExecuteTime": {
     "end_time": "2024-01-24T20:38:12.381966Z",
     "start_time": "2024-01-24T20:38:12.372495Z"
    }
   },
   "outputs": [],
   "source": [
    "397-378"
   ]
  },
  {
   "cell_type": "code",
   "execution_count": null,
   "metadata": {
    "ExecuteTime": {
     "end_time": "2024-01-24T20:38:13.290290Z",
     "start_time": "2024-01-24T20:38:13.262817Z"
    }
   },
   "outputs": [],
   "source": [
    "wps"
   ]
  },
  {
   "cell_type": "code",
   "execution_count": null,
   "metadata": {
    "ExecuteTime": {
     "end_time": "2024-01-24T20:38:14.799711Z",
     "start_time": "2024-01-24T20:38:14.786147Z"
    }
   },
   "outputs": [],
   "source": [
    "def paragraph_from_text(text, search_string):\n",
    "    \"\"\"Get paragraphs containing a keyword with its context\"\"\"\n",
    "    split_text = text.lower().split(\"\\n\\n\")\n",
    "    found = False\n",
    "    previous = \"\"\n",
    "    para = []\n",
    "    # to extract paragraphs containing a keyword and its immediate previous and after paragraphs\n",
    "    for p in split_text:\n",
    "        if found:\n",
    "            para.append(p)\n",
    "            found = False\n",
    "        if p.find(search_string.lower()) != -1:\n",
    "            para.append(previous)\n",
    "            para.append(p)\n",
    "            found = True\n",
    "        else:\n",
    "            found = False\n",
    "        previous = p\n",
    "    para = list(set(para)) # remove duplicates\n",
    "    para_str = \" \".join(para)\n",
    "    return para_str"
   ]
  },
  {
   "cell_type": "code",
   "execution_count": null,
   "metadata": {
    "ExecuteTime": {
     "end_time": "2024-01-24T20:38:16.902693Z",
     "start_time": "2024-01-24T20:38:15.788658Z"
    }
   },
   "outputs": [],
   "source": [
    "short_text = []\n",
    "for i in range(0, len(wps)):\n",
    "    short = paragraph_from_text(wps.text.iloc[i], \"smart\")\n",
    "    short_text.append(short)"
   ]
  },
  {
   "cell_type": "code",
   "execution_count": null,
   "metadata": {
    "ExecuteTime": {
     "end_time": "2024-01-24T20:38:17.600732Z",
     "start_time": "2024-01-24T20:38:17.598039Z"
    }
   },
   "outputs": [],
   "source": [
    "wps[\"mention\"] = short_text"
   ]
  },
  {
   "cell_type": "code",
   "execution_count": null,
   "metadata": {
    "ExecuteTime": {
     "end_time": "2024-01-24T20:38:18.294966Z",
     "start_time": "2024-01-24T20:38:18.285123Z"
    }
   },
   "outputs": [],
   "source": [
    "wps"
   ]
  },
  {
   "cell_type": "code",
   "execution_count": null,
   "metadata": {
    "ExecuteTime": {
     "end_time": "2024-01-26T16:46:29.181891Z",
     "start_time": "2024-01-24T20:38:32.557669Z"
    }
   },
   "outputs": [],
   "source": [
    "for i in range(len(wps)):\n",
    "    print(i)\n",
    "    gisjoin = wps.GISJOIN.iloc[i]\n",
    "    for sent in sent_tokenize(wps.mention.iloc[i]):\n",
    "        result = seesus.SeeSus(sent)\n",
    "        sdg = result.sdg\n",
    "        csv.writer(open(f\"data/text/{gisjoin}.csv\", \"a\")).writerow([sdg])"
   ]
  },
  {
   "cell_type": "code",
   "execution_count": null,
   "metadata": {},
   "outputs": [],
   "source": []
  }
 ],
 "metadata": {
  "kernelspec": {
   "display_name": "Python 3",
   "language": "python",
   "name": "python3"
  },
  "language_info": {
   "codemirror_mode": {
    "name": "ipython",
    "version": 3
   },
   "file_extension": ".py",
   "mimetype": "text/x-python",
   "name": "python",
   "nbconvert_exporter": "python",
   "pygments_lexer": "ipython3",
   "version": "3.8.3"
  },
  "toc": {
   "base_numbering": 1,
   "nav_menu": {},
   "number_sections": false,
   "sideBar": true,
   "skip_h1_title": false,
   "title_cell": "Table of Contents",
   "title_sidebar": "Contents",
   "toc_cell": false,
   "toc_position": {},
   "toc_section_display": true,
   "toc_window_display": false
  },
  "varInspector": {
   "cols": {
    "lenName": 16,
    "lenType": 16,
    "lenVar": 40
   },
   "kernels_config": {
    "python": {
     "delete_cmd_postfix": "",
     "delete_cmd_prefix": "del ",
     "library": "var_list.py",
     "varRefreshCmd": "print(var_dic_list())"
    },
    "r": {
     "delete_cmd_postfix": ") ",
     "delete_cmd_prefix": "rm(",
     "library": "var_list.r",
     "varRefreshCmd": "cat(var_dic_list()) "
    }
   },
   "types_to_exclude": [
    "module",
    "function",
    "builtin_function_or_method",
    "instance",
    "_Feature"
   ],
   "window_display": false
  }
 },
 "nbformat": 4,
 "nbformat_minor": 4
}
