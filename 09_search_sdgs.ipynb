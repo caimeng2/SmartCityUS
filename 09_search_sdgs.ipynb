{
 "cells": [
  {
   "cell_type": "code",
   "execution_count": 1,
   "metadata": {
    "ExecuteTime": {
     "end_time": "2024-07-29T12:53:31.920856Z",
     "start_time": "2024-07-29T12:53:29.532806Z"
    }
   },
   "outputs": [
    {
     "name": "stderr",
     "output_type": "stream",
     "text": [
      "/Users/mengcai/opt/anaconda3/lib/python3.8/site-packages/pandas/core/computation/expressions.py:20: UserWarning: Pandas requires version '2.7.3' or newer of 'numexpr' (version '2.7.1' currently installed).\n",
      "  from pandas.core.computation.check import NUMEXPR_INSTALLED\n"
     ]
    }
   ],
   "source": [
    "import pandas as pd\n",
    "import csv\n",
    "from ast import literal_eval\n",
    "import sys\n",
    "import numpy as np\n",
    "import glob\n",
    "import regex as re\n",
    "import seesus\n",
    "from nltk.tokenize import sent_tokenize"
   ]
  },
  {
   "cell_type": "code",
   "execution_count": 2,
   "metadata": {
    "ExecuteTime": {
     "end_time": "2024-07-29T12:53:34.638293Z",
     "start_time": "2024-07-29T12:53:33.512892Z"
    }
   },
   "outputs": [],
   "source": [
    "part1 = pd.read_csv(\"data/hpcc_text_part1_20240124.csv\")\n",
    "part2 = pd.read_csv(\"data/hpcc_text_part2_20240124.csv\")\n",
    "cities = pd.read_csv(\"data/smart_cities20240110.csv\")"
   ]
  },
  {
   "cell_type": "code",
   "execution_count": 3,
   "metadata": {
    "ExecuteTime": {
     "end_time": "2024-07-29T12:53:35.987288Z",
     "start_time": "2024-07-29T12:53:35.971717Z"
    }
   },
   "outputs": [],
   "source": [
    "wps = pd.concat([part1, part2], ignore_index=True) # each row is a webpage"
   ]
  },
  {
   "cell_type": "code",
   "execution_count": 4,
   "metadata": {
    "ExecuteTime": {
     "end_time": "2024-07-29T12:53:37.584599Z",
     "start_time": "2024-07-29T12:53:37.563714Z"
    }
   },
   "outputs": [
    {
     "data": {
      "text/plain": [
       "3265"
      ]
     },
     "execution_count": 4,
     "metadata": {},
     "output_type": "execute_result"
    }
   ],
   "source": [
    "len(wps)"
   ]
  },
  {
   "cell_type": "code",
   "execution_count": null,
   "metadata": {
    "ExecuteTime": {
     "end_time": "2024-01-30T14:18:13.858275Z",
     "start_time": "2024-01-30T14:18:13.843790Z"
    }
   },
   "outputs": [],
   "source": [
    "len(wps.GISJOIN.unique())"
   ]
  },
  {
   "cell_type": "code",
   "execution_count": null,
   "metadata": {
    "ExecuteTime": {
     "end_time": "2024-01-30T14:18:15.797260Z",
     "start_time": "2024-01-30T14:18:14.453658Z"
    }
   },
   "outputs": [],
   "source": [
    "len(cities[cities.smart==1])"
   ]
  },
  {
   "cell_type": "code",
   "execution_count": null,
   "metadata": {
    "ExecuteTime": {
     "end_time": "2024-01-30T14:18:27.987747Z",
     "start_time": "2024-01-30T14:18:27.973529Z"
    }
   },
   "outputs": [],
   "source": [
    "def paragraph_from_text(text, search_string):\n",
    "    \"\"\"Get paragraphs containing a keyword with its context\"\"\"\n",
    "    split_text = text.lower().split(\"\\n\\n\")\n",
    "    found = False\n",
    "    previous = \"\"\n",
    "    para = []\n",
    "    # to extract paragraphs containing a keyword and its immediate previous and after paragraphs\n",
    "    for p in split_text:\n",
    "        if found:\n",
    "            para.append(p)\n",
    "            found = False\n",
    "        if p.find(search_string.lower()) != -1:\n",
    "            para.append(previous)\n",
    "            para.append(p)\n",
    "            found = True\n",
    "        else:\n",
    "            found = False\n",
    "        previous = p\n",
    "    para = list(set(para)) # remove duplicates\n",
    "    para_str = \" \".join(para)\n",
    "    return para_str"
   ]
  },
  {
   "cell_type": "code",
   "execution_count": null,
   "metadata": {
    "ExecuteTime": {
     "end_time": "2024-01-30T14:18:29.947151Z",
     "start_time": "2024-01-30T14:18:28.808615Z"
    }
   },
   "outputs": [],
   "source": [
    "short_text = []\n",
    "for i in range(0, len(wps)):\n",
    "    short = paragraph_from_text(wps.text.iloc[i], \"smart\")\n",
    "    short_text.append(short)"
   ]
  },
  {
   "cell_type": "code",
   "execution_count": null,
   "metadata": {
    "ExecuteTime": {
     "end_time": "2024-01-30T14:18:30.785016Z",
     "start_time": "2024-01-30T14:18:30.776506Z"
    }
   },
   "outputs": [],
   "source": [
    "wps[\"mention\"] = short_text"
   ]
  },
  {
   "cell_type": "code",
   "execution_count": null,
   "metadata": {
    "ExecuteTime": {
     "end_time": "2024-01-28T16:25:06.499741Z",
     "start_time": "2024-01-26T17:43:01.367638Z"
    }
   },
   "outputs": [],
   "source": [
    "for i in range(len(wps)):\n",
    "    print(i)\n",
    "    gisjoin = wps.GISJOIN.iloc[i]\n",
    "    sents = sent_tokenize(wps.mention.iloc[i])\n",
    "    for sent in sents:\n",
    "        result = seesus.SeeSus(sent)\n",
    "        sdg = result.sdg\n",
    "        target = result.target\n",
    "        see = result.see\n",
    "        csv.writer(open(f\"data/seesus_text/{gisjoin}.csv\", \"a\")).writerow([sdg,target,see])"
   ]
  },
  {
   "cell_type": "code",
   "execution_count": null,
   "metadata": {},
   "outputs": [],
   "source": []
  }
 ],
 "metadata": {
  "kernelspec": {
   "display_name": "Python 3",
   "language": "python",
   "name": "python3"
  },
  "language_info": {
   "codemirror_mode": {
    "name": "ipython",
    "version": 3
   },
   "file_extension": ".py",
   "mimetype": "text/x-python",
   "name": "python",
   "nbconvert_exporter": "python",
   "pygments_lexer": "ipython3",
   "version": "3.8.3"
  },
  "toc": {
   "base_numbering": 1,
   "nav_menu": {},
   "number_sections": false,
   "sideBar": true,
   "skip_h1_title": false,
   "title_cell": "Table of Contents",
   "title_sidebar": "Contents",
   "toc_cell": false,
   "toc_position": {},
   "toc_section_display": true,
   "toc_window_display": false
  },
  "varInspector": {
   "cols": {
    "lenName": 16,
    "lenType": 16,
    "lenVar": 40
   },
   "kernels_config": {
    "python": {
     "delete_cmd_postfix": "",
     "delete_cmd_prefix": "del ",
     "library": "var_list.py",
     "varRefreshCmd": "print(var_dic_list())"
    },
    "r": {
     "delete_cmd_postfix": ") ",
     "delete_cmd_prefix": "rm(",
     "library": "var_list.r",
     "varRefreshCmd": "cat(var_dic_list()) "
    }
   },
   "types_to_exclude": [
    "module",
    "function",
    "builtin_function_or_method",
    "instance",
    "_Feature"
   ],
   "window_display": false
  }
 },
 "nbformat": 4,
 "nbformat_minor": 4
}
