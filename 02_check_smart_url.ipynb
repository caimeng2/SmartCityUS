{
 "cells": [
  {
   "cell_type": "code",
   "execution_count": null,
   "metadata": {
    "ExecuteTime": {
     "end_time": "2023-11-14T15:09:07.864680Z",
     "start_time": "2023-11-14T15:09:07.615618Z"
    }
   },
   "outputs": [],
   "source": [
    "import pandas as pd\n",
    "pd.options.display.float_format = '{:.2f}'.format # scientific notation\n",
    "import csv\n",
    "from ast import literal_eval\n",
    "import math\n",
    "import time"
   ]
  },
  {
   "cell_type": "code",
   "execution_count": null,
   "metadata": {
    "ExecuteTime": {
     "end_time": "2023-11-14T15:09:09.322554Z",
     "start_time": "2023-11-14T15:09:09.268109Z"
    }
   },
   "outputs": [],
   "source": [
    "url = pd.read_csv(\"data/smarturl20221005.csv\").drop([\"est_total\"], axis=1)"
   ]
  },
  {
   "cell_type": "code",
   "execution_count": null,
   "metadata": {
    "ExecuteTime": {
     "end_time": "2023-11-14T15:09:10.478795Z",
     "start_time": "2023-11-14T15:09:10.451225Z"
    }
   },
   "outputs": [],
   "source": [
    "url.head()"
   ]
  },
  {
   "cell_type": "code",
   "execution_count": null,
   "metadata": {
    "ExecuteTime": {
     "end_time": "2023-11-14T15:09:15.384998Z",
     "start_time": "2023-11-14T15:09:14.659459Z"
    }
   },
   "outputs": [],
   "source": [
    "# create new column: 1- yes smart city keywords, 0- no smart city keywords\n",
    "url[\"smart\"] = np.where(url.total==0, 0, 1)"
   ]
  },
  {
   "cell_type": "code",
   "execution_count": null,
   "metadata": {
    "ExecuteTime": {
     "end_time": "2023-11-14T15:09:16.549649Z",
     "start_time": "2023-11-14T15:09:16.535870Z"
    }
   },
   "outputs": [],
   "source": [
    "# number of cities with smart city keywords\n",
    "url.smart.sum()"
   ]
  },
  {
   "cell_type": "code",
   "execution_count": null,
   "metadata": {
    "ExecuteTime": {
     "end_time": "2023-11-14T15:09:19.356771Z",
     "start_time": "2023-11-14T15:09:19.340286Z"
    }
   },
   "outputs": [],
   "source": [
    "# cities with smart city keywords\n",
    "smart = url[url.smart==1]"
   ]
  },
  {
   "cell_type": "code",
   "execution_count": null,
   "metadata": {
    "ExecuteTime": {
     "end_time": "2023-11-14T15:09:27.579151Z",
     "start_time": "2023-11-14T15:09:27.553886Z"
    }
   },
   "outputs": [],
   "source": [
    "smart.head()"
   ]
  },
  {
   "cell_type": "code",
   "execution_count": null,
   "metadata": {},
   "outputs": [],
   "source": [
    "# save to csv for manual checking\n",
    "smart.to_csv(\"smart_manual.csv\", index=False)"
   ]
  }
 ],
 "metadata": {
  "kernelspec": {
   "display_name": "Python 3",
   "language": "python",
   "name": "python3"
  },
  "language_info": {
   "codemirror_mode": {
    "name": "ipython",
    "version": 3
   },
   "file_extension": ".py",
   "mimetype": "text/x-python",
   "name": "python",
   "nbconvert_exporter": "python",
   "pygments_lexer": "ipython3",
   "version": "3.8.3"
  },
  "toc": {
   "base_numbering": 1,
   "nav_menu": {},
   "number_sections": false,
   "sideBar": true,
   "skip_h1_title": false,
   "title_cell": "Table of Contents",
   "title_sidebar": "Contents",
   "toc_cell": false,
   "toc_position": {},
   "toc_section_display": true,
   "toc_window_display": false
  },
  "varInspector": {
   "cols": {
    "lenName": 16,
    "lenType": 16,
    "lenVar": 40
   },
   "kernels_config": {
    "python": {
     "delete_cmd_postfix": "",
     "delete_cmd_prefix": "del ",
     "library": "var_list.py",
     "varRefreshCmd": "print(var_dic_list())"
    },
    "r": {
     "delete_cmd_postfix": ") ",
     "delete_cmd_prefix": "rm(",
     "library": "var_list.r",
     "varRefreshCmd": "cat(var_dic_list()) "
    }
   },
   "types_to_exclude": [
    "module",
    "function",
    "builtin_function_or_method",
    "instance",
    "_Feature"
   ],
   "window_display": false
  }
 },
 "nbformat": 4,
 "nbformat_minor": 4
}
