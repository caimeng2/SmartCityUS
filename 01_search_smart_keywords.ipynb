{
 "cells": [
  {
   "cell_type": "code",
   "execution_count": null,
   "metadata": {
    "ExecuteTime": {
     "end_time": "2023-11-14T14:47:46.320060Z",
     "start_time": "2023-11-14T14:47:45.864224Z"
    }
   },
   "outputs": [],
   "source": [
    "# import libraries\n",
    "import pandas as pd\n",
    "from googleapiclient.discovery import build\n",
    "import csv\n",
    "import math\n",
    "import time"
   ]
  },
  {
   "cell_type": "code",
   "execution_count": null,
   "metadata": {
    "ExecuteTime": {
     "end_time": "2023-11-14T14:24:35.707017Z",
     "start_time": "2023-11-14T14:24:35.695155Z"
    }
   },
   "outputs": [],
   "source": [
    "# read in API key and case ID\n",
    "api_key = open('api_key.txt', 'r').read().strip()\n",
    "case_id = open('case_id.txt', 'r').read().strip()"
   ]
  },
  {
   "cell_type": "code",
   "execution_count": null,
   "metadata": {
    "ExecuteTime": {
     "end_time": "2023-11-14T14:25:37.564444Z",
     "start_time": "2023-11-14T14:25:37.541964Z"
    }
   },
   "outputs": [],
   "source": [
    "# a funtion to search keywords on city websites\n",
    "def google(search_term, api_key, case_id):\n",
    "    \"\"\"\n",
    "    Use Google Custom Search API to collect search results.\n",
    "    \n",
    "    Args:\n",
    "        search_term: search string. The maximium length is 2048 characters.\n",
    "        api_key: api key.\n",
    "        case_id: case_id.\n",
    "    Returns:\n",
    "        est_total_num: the number of search results estimated by Google. \n",
    "        len(linkl): the number of actual search results.\n",
    "        titlel: the title of each returned search result.\n",
    "        linkl: the link of each returned search result.\n",
    "        snippetl: the snippet of each returned search result.\n",
    "    \"\"\"\n",
    "    \n",
    "    service = build(\"customsearch\", \"v1\", developerKey=api_key)\n",
    "    result = service.cse().list(q=search_term, cx=case_id).execute()\n",
    "    est_total_num = int(result[\"searchInformation\"][\"totalResults\"])\n",
    "    titlel = []\n",
    "    linkl = []\n",
    "    snippetl = []\n",
    "    \n",
    "    if est_total_num == 0:\n",
    "        return 0, len(linkl), titlel, linkl, snippetl\n",
    "    \n",
    "    elif est_total_num <= 10:\n",
    "        for item in result[\"items\"]:\n",
    "            titlel.append(item[\"title\"])\n",
    "            linkl.append(item[\"link\"])\n",
    "            snippetl.append(item['snippet'])\n",
    "        return est_total_num, len(linkl), titlel, linkl, snippetl\n",
    "    \n",
    "    else:\n",
    "        for item in result[\"items\"]:\n",
    "            titlel.append(item[\"title\"])\n",
    "            linkl.append(item[\"link\"])\n",
    "            snippetl.append(item['snippet'])\n",
    "        total_page = math.ceil(est_total_num/10)\n",
    "        if total_page > 10:\n",
    "            total_page = 10 # max return from Google\n",
    "        for page in range(1, total_page):\n",
    "            start = page * 10 + 1\n",
    "            more_result = service.cse().list(q=search_term, cx=case_id, start=start).execute()\n",
    "            new_total_num = int(more_result[\"searchInformation\"][\"totalResults\"])\n",
    "            if new_total_num == 0:\n",
    "                return est_total_num, len(linkl), titlel, linkl, snippetl\n",
    "            else:\n",
    "                for item in more_result[\"items\"]:\n",
    "                    titlel.append(item[\"title\"])\n",
    "                    linkl.append(item[\"link\"])\n",
    "                    snippetl.append(item['snippet'])\n",
    "        return est_total_num, len(linkl), titlel, linkl, snippetl"
   ]
  },
  {
   "cell_type": "code",
   "execution_count": null,
   "metadata": {
    "ExecuteTime": {
     "end_time": "2023-11-14T14:47:48.811075Z",
     "start_time": "2023-11-14T14:47:48.745269Z"
    }
   },
   "outputs": [],
   "source": [
    "# web addresses of all cities\n",
    "url = pd.read_csv(\"data/allurl20220929.csv\")"
   ]
  },
  {
   "cell_type": "code",
   "execution_count": null,
   "metadata": {
    "ExecuteTime": {
     "end_time": "2023-11-14T14:48:33.910667Z",
     "start_time": "2023-11-14T14:48:33.887334Z"
    }
   },
   "outputs": [],
   "source": [
    "# drop cities without a website\n",
    "source = url[url.url.notna()]\n",
    "source = source.reset_index(drop=True)"
   ]
  },
  {
   "cell_type": "code",
   "execution_count": null,
   "metadata": {
    "ExecuteTime": {
     "end_time": "2023-11-14T14:48:35.830572Z",
     "start_time": "2023-11-14T14:48:35.806208Z"
    }
   },
   "outputs": [],
   "source": [
    "# for search keywords\n",
    "source[\"BASENAME_nows\"] = source.BASENAME.str.replace(' ', '')"
   ]
  },
  {
   "cell_type": "code",
   "execution_count": null,
   "metadata": {
    "ExecuteTime": {
     "end_time": "2023-11-14T14:48:49.458629Z",
     "start_time": "2023-11-14T14:48:49.423978Z"
    }
   },
   "outputs": [],
   "source": [
    "source.head()"
   ]
  },
  {
   "cell_type": "code",
   "execution_count": null,
   "metadata": {},
   "outputs": [],
   "source": [
    "# define the output file name\n",
    "filename = \"data/smart_url20221005.csv\""
   ]
  },
  {
   "cell_type": "code",
   "execution_count": null,
   "metadata": {},
   "outputs": [],
   "source": [
    "# conduct the search and write into a csv file\n",
    "for i in range(0, len(source)):\n",
    "    search_term = f'\"smart city\" OR \"smartcity\" OR \"smart town\" OR \"smarttown\" OR \"smart village\" OR \"smartvillage\" OR \"smart borough\" OR \"smartborough\" OR \"smart county\" OR \"smartcounty\" OR \"smart municipality\" OR \"smartmunicipality\" OR \"smart {source.BASENAME.iloc[i]}\" OR \"smart{source.BASENAME_nows.iloc[i]}\" site:' + source.url.iloc[i]\n",
    "    est_total_num, total_num, titlel, linkl, snippetl = google(search_term, api_key, case_id)\n",
    "    csv.writer(open(filename, \"a\")).writerow([source.GISJOIN.iloc[i], est_total_num, total_num, titlel, linkl, snippetl])\n",
    "    time.sleep(1)\n",
    "    print(i, source.GISJOIN.iloc[i], \"done\")"
   ]
  }
 ],
 "metadata": {
  "kernelspec": {
   "display_name": "Python 3",
   "language": "python",
   "name": "python3"
  },
  "language_info": {
   "codemirror_mode": {
    "name": "ipython",
    "version": 3
   },
   "file_extension": ".py",
   "mimetype": "text/x-python",
   "name": "python",
   "nbconvert_exporter": "python",
   "pygments_lexer": "ipython3",
   "version": "3.8.3"
  },
  "toc": {
   "base_numbering": 1,
   "nav_menu": {},
   "number_sections": false,
   "sideBar": true,
   "skip_h1_title": false,
   "title_cell": "Table of Contents",
   "title_sidebar": "Contents",
   "toc_cell": false,
   "toc_position": {},
   "toc_section_display": true,
   "toc_window_display": false
  },
  "varInspector": {
   "cols": {
    "lenName": 16,
    "lenType": 16,
    "lenVar": 40
   },
   "kernels_config": {
    "python": {
     "delete_cmd_postfix": "",
     "delete_cmd_prefix": "del ",
     "library": "var_list.py",
     "varRefreshCmd": "print(var_dic_list())"
    },
    "r": {
     "delete_cmd_postfix": ") ",
     "delete_cmd_prefix": "rm(",
     "library": "var_list.r",
     "varRefreshCmd": "cat(var_dic_list()) "
    }
   },
   "types_to_exclude": [
    "module",
    "function",
    "builtin_function_or_method",
    "instance",
    "_Feature"
   ],
   "window_display": false
  }
 },
 "nbformat": 4,
 "nbformat_minor": 4
}
