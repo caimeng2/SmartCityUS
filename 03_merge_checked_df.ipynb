{
 "cells": [
  {
   "cell_type": "code",
   "execution_count": null,
   "metadata": {
    "ExecuteTime": {
     "end_time": "2023-11-14T16:01:05.072091Z",
     "start_time": "2023-11-14T16:01:04.831212Z"
    }
   },
   "outputs": [],
   "source": [
    "import pandas as pd\n",
    "pd.options.display.float_format = '{:.2f}'.format\n",
    "import csv\n",
    "from ast import literal_eval\n",
    "import math\n",
    "import time"
   ]
  },
  {
   "cell_type": "code",
   "execution_count": null,
   "metadata": {
    "ExecuteTime": {
     "end_time": "2023-11-14T16:01:05.337266Z",
     "start_time": "2023-11-14T16:01:05.073529Z"
    }
   },
   "outputs": [],
   "source": [
    "# import data\n",
    "df = pd.read_csv(\"data/all_url20220929.csv\") # all the cities\n",
    "checked = pd.read_csv(\"data/smart_manual_TD_checked.csv\") # manually checked list of smart cities\n",
    "loc = pd.read_csv(\"data/nhgis/nhgis0009_ds248_2020_place.csv\") # can be downloaded from https://www.nhgis.org/"
   ]
  },
  {
   "cell_type": "code",
   "execution_count": null,
   "metadata": {
    "ExecuteTime": {
     "end_time": "2023-11-14T16:01:05.345965Z",
     "start_time": "2023-11-14T16:01:05.338410Z"
    }
   },
   "outputs": [],
   "source": [
    "# keep useful columns\n",
    "df = df[[\"GISJOIN\", \"POP20\", \"BASENAME\", \"State\"]]\n",
    "loc = loc[[\"GISJOIN\", \"INTPTLAT\", \"INTPTLON\"]]\n",
    "checked = checked[[\"GISJOIN\", \"manual_check\"]]\n",
    "# rename manual_check to smart, meaning yes a smart city\n",
    "checked.rename(columns={\"manual_check\": \"smart\"}, inplace=True)"
   ]
  },
  {
   "cell_type": "code",
   "execution_count": null,
   "metadata": {
    "ExecuteTime": {
     "end_time": "2023-11-14T16:01:05.367894Z",
     "start_time": "2023-11-14T16:01:05.347071Z"
    }
   },
   "outputs": [],
   "source": [
    "# merge into one df\n",
    "df = df.merge(checked, on=\"GISJOIN\", how=\"left\")\n",
    "df = df.merge(loc, on=\"GISJOIN\", how=\"left\")"
   ]
  },
  {
   "cell_type": "code",
   "execution_count": null,
   "metadata": {
    "ExecuteTime": {
     "end_time": "2023-11-14T16:01:06.061800Z",
     "start_time": "2023-11-14T16:01:05.369135Z"
    }
   },
   "outputs": [],
   "source": [
    "# fill with 0 if no website\n",
    "df.loc[df.smart!=1, \"smart\"] = 0"
   ]
  },
  {
   "cell_type": "code",
   "execution_count": null,
   "metadata": {
    "ExecuteTime": {
     "end_time": "2023-11-14T16:01:06.129972Z",
     "start_time": "2023-11-14T16:01:06.063077Z"
    }
   },
   "outputs": [],
   "source": [
    "df.to_csv(\"data/smart_cities20231114.csv\", index=False)"
   ]
  },
  {
   "cell_type": "code",
   "execution_count": null,
   "metadata": {},
   "outputs": [],
   "source": []
  }
 ],
 "metadata": {
  "kernelspec": {
   "display_name": "Python 3",
   "language": "python",
   "name": "python3"
  },
  "language_info": {
   "codemirror_mode": {
    "name": "ipython",
    "version": 3
   },
   "file_extension": ".py",
   "mimetype": "text/x-python",
   "name": "python",
   "nbconvert_exporter": "python",
   "pygments_lexer": "ipython3",
   "version": "3.8.3"
  },
  "toc": {
   "base_numbering": 1,
   "nav_menu": {},
   "number_sections": false,
   "sideBar": true,
   "skip_h1_title": false,
   "title_cell": "Table of Contents",
   "title_sidebar": "Contents",
   "toc_cell": false,
   "toc_position": {},
   "toc_section_display": true,
   "toc_window_display": false
  },
  "varInspector": {
   "cols": {
    "lenName": 16,
    "lenType": 16,
    "lenVar": 40
   },
   "kernels_config": {
    "python": {
     "delete_cmd_postfix": "",
     "delete_cmd_prefix": "del ",
     "library": "var_list.py",
     "varRefreshCmd": "print(var_dic_list())"
    },
    "r": {
     "delete_cmd_postfix": ") ",
     "delete_cmd_prefix": "rm(",
     "library": "var_list.r",
     "varRefreshCmd": "cat(var_dic_list()) "
    }
   },
   "types_to_exclude": [
    "module",
    "function",
    "builtin_function_or_method",
    "instance",
    "_Feature"
   ],
   "window_display": false
  }
 },
 "nbformat": 4,
 "nbformat_minor": 4
}
