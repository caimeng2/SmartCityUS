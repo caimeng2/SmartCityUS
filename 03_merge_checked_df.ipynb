{
 "cells": [
  {
   "cell_type": "code",
   "execution_count": 1,
   "metadata": {
    "ExecuteTime": {
     "end_time": "2024-01-10T12:19:30.409301Z",
     "start_time": "2024-01-10T12:19:29.806335Z"
    }
   },
   "outputs": [],
   "source": [
    "import pandas as pd\n",
    "pd.options.display.float_format = '{:.2f}'.format\n",
    "import csv\n",
    "from ast import literal_eval\n",
    "import math\n",
    "import time"
   ]
  },
  {
   "cell_type": "code",
   "execution_count": 2,
   "metadata": {
    "ExecuteTime": {
     "end_time": "2024-01-10T12:19:40.687786Z",
     "start_time": "2024-01-10T12:19:40.409941Z"
    }
   },
   "outputs": [
    {
     "name": "stderr",
     "output_type": "stream",
     "text": [
      "/Users/mengcai/opt/anaconda3/lib/python3.8/site-packages/IPython/core/interactiveshell.py:3071: DtypeWarning: Columns (50) have mixed types.Specify dtype option on import or set low_memory=False.\n",
      "  has_raised = await self.run_ast_nodes(code_ast.body, cell_name,\n"
     ]
    }
   ],
   "source": [
    "# import data\n",
    "df = pd.read_csv(\"data/all_url20220929.csv\") # all the cities\n",
    "checked = pd.read_csv(\"data/smart_manual_TD_MC_checked.csv\") # manually checked list of smart cities\n",
    "loc = pd.read_csv(\"data/nhgis/nhgis0009_ds248_2020_place.csv\") # can be downloaded from https://www.nhgis.org/"
   ]
  },
  {
   "cell_type": "code",
   "execution_count": 3,
   "metadata": {
    "ExecuteTime": {
     "end_time": "2024-01-10T12:19:46.804254Z",
     "start_time": "2024-01-10T12:19:46.781206Z"
    }
   },
   "outputs": [],
   "source": [
    "# keep useful columns\n",
    "df = df[[\"GISJOIN\", \"POP20\", \"BASENAME\", \"State\"]]\n",
    "loc = loc[[\"GISJOIN\", \"INTPTLAT\", \"INTPTLON\"]]\n",
    "checked = checked[[\"GISJOIN\", \"manual_check\"]]\n",
    "# rename manual_check to smart, meaning yes a smart city\n",
    "checked.rename(columns={\"manual_check\": \"smart\"}, inplace=True)"
   ]
  },
  {
   "cell_type": "code",
   "execution_count": 4,
   "metadata": {
    "ExecuteTime": {
     "end_time": "2024-01-10T12:19:49.018664Z",
     "start_time": "2024-01-10T12:19:48.970609Z"
    }
   },
   "outputs": [],
   "source": [
    "# merge into one df\n",
    "df = df.merge(checked, on=\"GISJOIN\", how=\"left\")\n",
    "df = df.merge(loc, on=\"GISJOIN\", how=\"left\")"
   ]
  },
  {
   "cell_type": "code",
   "execution_count": 5,
   "metadata": {
    "ExecuteTime": {
     "end_time": "2024-01-10T12:19:52.008347Z",
     "start_time": "2024-01-10T12:19:51.157219Z"
    }
   },
   "outputs": [],
   "source": [
    "# fill with 0 if no website\n",
    "df.loc[df.smart!=1, \"smart\"] = 0"
   ]
  },
  {
   "cell_type": "code",
   "execution_count": 6,
   "metadata": {
    "ExecuteTime": {
     "end_time": "2024-01-10T12:20:30.137069Z",
     "start_time": "2024-01-10T12:20:30.025400Z"
    }
   },
   "outputs": [],
   "source": [
    "df.to_csv(\"data/smart_cities20240110.csv\", index=False)"
   ]
  },
  {
   "cell_type": "code",
   "execution_count": null,
   "metadata": {},
   "outputs": [],
   "source": []
  }
 ],
 "metadata": {
  "kernelspec": {
   "display_name": "Python 3",
   "language": "python",
   "name": "python3"
  },
  "language_info": {
   "codemirror_mode": {
    "name": "ipython",
    "version": 3
   },
   "file_extension": ".py",
   "mimetype": "text/x-python",
   "name": "python",
   "nbconvert_exporter": "python",
   "pygments_lexer": "ipython3",
   "version": "3.8.3"
  },
  "toc": {
   "base_numbering": 1,
   "nav_menu": {},
   "number_sections": false,
   "sideBar": true,
   "skip_h1_title": false,
   "title_cell": "Table of Contents",
   "title_sidebar": "Contents",
   "toc_cell": false,
   "toc_position": {},
   "toc_section_display": true,
   "toc_window_display": false
  },
  "varInspector": {
   "cols": {
    "lenName": 16,
    "lenType": 16,
    "lenVar": 40
   },
   "kernels_config": {
    "python": {
     "delete_cmd_postfix": "",
     "delete_cmd_prefix": "del ",
     "library": "var_list.py",
     "varRefreshCmd": "print(var_dic_list())"
    },
    "r": {
     "delete_cmd_postfix": ") ",
     "delete_cmd_prefix": "rm(",
     "library": "var_list.r",
     "varRefreshCmd": "cat(var_dic_list()) "
    }
   },
   "types_to_exclude": [
    "module",
    "function",
    "builtin_function_or_method",
    "instance",
    "_Feature"
   ],
   "window_display": false
  }
 },
 "nbformat": 4,
 "nbformat_minor": 4
}
